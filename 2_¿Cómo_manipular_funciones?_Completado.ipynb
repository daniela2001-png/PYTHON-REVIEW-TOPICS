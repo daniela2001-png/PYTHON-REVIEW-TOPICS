{
  "nbformat": 4,
  "nbformat_minor": 0,
  "metadata": {
    "colab": {
      "name": "2 - ¿Cómo manipular funciones? - Completado.ipynb",
      "provenance": [],
      "collapsed_sections": [],
      "include_colab_link": true
    },
    "kernelspec": {
      "name": "python3",
      "display_name": "Python 3"
    }
  },
  "cells": [
    {
      "cell_type": "markdown",
      "metadata": {
        "id": "view-in-github",
        "colab_type": "text"
      },
      "source": [
        "<a href=\"https://colab.research.google.com/github/daniela2001-png/PYTHON-REVIEW-TOPICS/blob/main/2_%C2%BFC%C3%B3mo_manipular_funciones%3F_Completado.ipynb\" target=\"_parent\"><img src=\"https://colab.research.google.com/assets/colab-badge.svg\" alt=\"Open In Colab\"/></a>"
      ]
    },
    {
      "cell_type": "markdown",
      "metadata": {
        "id": "VsyGcoRTAJEa"
      },
      "source": [
        "## Dependencias"
      ]
    },
    {
      "cell_type": "code",
      "metadata": {
        "id": "MimQJFUozsWE"
      },
      "source": [
        "import numpy as np\n",
        "import matplotlib.pyplot as plt"
      ],
      "execution_count": null,
      "outputs": []
    },
    {
      "cell_type": "markdown",
      "metadata": {
        "id": "guoEL_8YAN3c"
      },
      "source": [
        "## Desplazamientos verticales y horizontales\n",
        "\n",
        "Siendo $c$ una constante mayor que cero, entonces la gráfica:\n",
        "\n",
        "- $y=f(x)+c$ se desplaza $c$ unidades hacia arriba.\n",
        "- $y=f(x)-c$ se desplaza $c$ unidades hacia abajo.\n",
        "- $y=f(x-c)$ se desplaza $c$ unidades hacia la derecha.\n",
        "- $y=f(x+c)$ se desplaza $c$ unidades hacia la izquierda."
      ]
    },
    {
      "cell_type": "code",
      "metadata": {
        "id": "h58TwxwgALCN"
      },
      "source": [
        "# ahora lo haremos con plotly\n",
        "import plotly.express as px\n",
        "import plotly.graph_objects as go\n",
        "\n",
        "# funcion que grafica los dos plots con desplazamiento vertical hacia arriba y hacia abajo\n",
        "def parabola_vertical():\n",
        "  fig = go.Figure()\n",
        "  fig2 = go.Figure()\n",
        "  x2 = np.arange(-5, 5, 2)\n",
        "  y2 = x2 ** 2\n",
        "  fig2.add_trace(go.Scatter(x=x2, y=y2 - 10, name=\"y = x^2 - 10\", line=dict(color='green', width=3, dash='dash')))\n",
        "  fig2.add_trace(go.Scatter(x=x2, y=y2, name=\"y = x^2\", line=dict(color='blue', width=3, dash='dashdot')))\n",
        "  fig2.update_layout(title=\"Gráfica de la parabola y = x^2 con desplazamiento vertical hacia abajo de 10 unidades \",\n",
        "                   xaxis_title='Eje X',\n",
        "                   yaxis_title='Eje Y')\n",
        "  # Create and style traces\n",
        "  x = np.arange(-10, 10, 2)\n",
        "  y = x ** 2\n",
        "  # al resultado de y le sumamos 100 unidades que movera la grafica de manera vertical 100 uds hacia arriba\n",
        "  fig.add_trace(go.Scatter(x=x, y=y + 100, line=dict(color='blue', width=4, dash='dashdot')))\n",
        "  fig.add_trace(go.Scatter(x=x, y=y, line=dict(color='red', width=4, dash='dash')))\n",
        "  fig.update_layout(title=\"Gráfica de la parabola y = x^2 con desplazamiento vertical hacia arriba de 100 unidades\",\n",
        "                   xaxis_title='Eje X',\n",
        "                   yaxis_title='Eje Y')\n",
        "  return fig.show(), fig2.show()\n",
        "\n",
        "parabola_vertical()\n",
        "\n",
        "\n",
        "def f(x):\n",
        "  return x ** 2 \n",
        "# funcion que grafica los dos plots con desplazamiento horizontal tanto hacia derecha como izquierda\n",
        "def parabola_horizontal():\n",
        "  fig1 = go.Figure()\n",
        "  fig2 = go.Figure()\n",
        "  x2 = np.arange(-10, 10, 2)\n",
        "  y2 = f(x2 + 2)\n",
        "  fig2.add_trace(go.Scatter(x=x2, y=y2, name=\"y2 = f(x2 + 2)\", line=dict(color='green', width=3, dash='dash')))\n",
        "  fig2.add_trace(go.Scatter(x=x2, y=x2 ** 2, name=\"y = x^2\",  line=dict(color='red', width=3, dash='dashdot')))\n",
        "  fig2.update_layout(title=\"Gráfica de la parabola y = x^2 con desplazamiento horizontal hacia la izquierda con 2 unidades \",\n",
        "                   xaxis_title='Eje X',\n",
        "                   yaxis_title='Eje Y')\n",
        "  # Create and style traces\n",
        "  x1 = np.arange(-10, 10, 2)\n",
        "  y1 = f(x1 - 2)\n",
        "  fig1.add_trace(go.Scatter(x=x1, y=y1, name=\"y1 = f(x1 - 2)\", line=dict(color='blue', width=4, dash='dashdot')))\n",
        "  fig1.add_trace(go.Scatter(x=x1, y=x1 ** 2, name=\"y = x^2\", line=dict(color='red', width=4, dash='dash')))\n",
        "  fig1.update_layout(title=\"Gráfica de la parabola y = x^2 con desplazamiento horizontal hacia la derecha con 2 unidades\",\n",
        "                   xaxis_title='Eje X',\n",
        "                   yaxis_title='Eje Y')\n",
        "  return fig1.show(), fig2.show()\n",
        "\n",
        "parabola_horizontal()\n",
        "\n"
      ],
      "execution_count": null,
      "outputs": []
    },
    {
      "cell_type": "markdown",
      "metadata": {
        "id": "yFiYmBmGH730"
      },
      "source": [
        "## Alargamientos y compresiones\n",
        "\n",
        "Siendo $c$ una constante mayor que cero, entonces la gráfica:\n",
        "\n",
        "- $y=c \\cdot f(x)$ alarga la gráfica verticalmente en un factor de $c$.\n",
        "- $y= \\frac{1}{c} \\cdot f(x)$ comprime la gráfica verticalmente en un factor de $c$.\n",
        "- $y=f(c \\cdot x)$ comprime la gráfica horizontelmente en un factor de $c$.\n",
        "- $y= f(\\frac{1}{c} \\cdot x )$ alarga la gráfica horizontelmente en un factor de $c$."
      ]
    },
    {
      "cell_type": "code",
      "metadata": {
        "id": "nfylYTjqFJ8W"
      },
      "source": [
        "def f(x):\n",
        "  return np.sin(x)\n",
        "\n",
        "def graficar(**kwargs):\n",
        "  \"\"\"\n",
        "  Esta funcion graficar toma como parametro kwargs:\n",
        "    - kwargs tendra 2 llaves unicamente que son:\n",
        "      1) comportamiento : esta llave tomara exactamente 2 valores que son :\n",
        "          - alargar ó comprimir\n",
        "      2) modo : esta llave tomara exactamente 2 valores que son :\n",
        "          - natural ó antinatural\n",
        "  \"\"\"\n",
        "  if kwargs[\"comportamiento\"] == \"alargar\" or kwargs[\"comportamiento\"] == \"comprimir\" and kwargs[\"modo\"] == \"natural\" or kwargs[\"modo\"] == \"antinatural\":  \n",
        "    constante = 4\n",
        "    x = np.linspace(4*(-np.pi), 4*(np.pi), 1000)\n",
        "    y = f(x)\n",
        "    string= \"\"\n",
        "    if kwargs[\"comportamiento\"] == \"alargar\" and kwargs[\"modo\"] == \"antinatural\":\n",
        "      string = \"y2 = f((1/constante) * x)\"\n",
        "      y2 = f((1/constante) * x)\n",
        "    else:\n",
        "      string = \"y2 = constante * f(x)\"\n",
        "      y2 = constante * f(x)\n",
        "      if kwargs[\"comportamiento\"] == \"comprimir\":\n",
        "        if kwargs[\"modo\"] == \"natural\":\n",
        "          string = \"y2 = 1/constante * f(x)\"\n",
        "          y2 = (1/constante) * f(x)\n",
        "        elif kwargs[\"modo\"] == \"antinatural\":\n",
        "          print(\"entree\")\n",
        "          string = \"y2 = f(c * x)\"\n",
        "          y2 = f(constante * x)\n",
        "    [grafica1, grafica2] = plt.plot(x, y, x, y2)\n",
        "    plt.xlabel('Angulo en [rad]')\n",
        "    plt.ylabel('sin(x)')\n",
        "    plt.grid()\n",
        "    plt.legend([grafica1, grafica2], [\"f(x) = sin(x)\", f\"{string}\"])\n",
        "    plt.axhline(y=0, color=\"g\")\n",
        "    plt.axvline(x=0, color=\"g\")\n",
        "    return plt.show()\n",
        "  else:\n",
        "    print(\"Los valores que puede tomar como máximo dos llaves respectivamente son:\\n \\t 1) comportamiento = comprimir ó  alargar\\n \\t 2) modo = natural ó antinatural\")\n",
        "\n",
        "graficar(comportamiento=\"alargar\", modo=\"antinatural\")"
      ],
      "execution_count": null,
      "outputs": []
    },
    {
      "cell_type": "markdown",
      "metadata": {
        "id": "Z9M4ZuA0KQTa"
      },
      "source": [
        "## Reflexiones\n",
        "\n",
        "- $y=-f(x)$ refleja la gráfica respecto al eje x.\n",
        "- $y=f(-x)$ refleja la gráfica respecto al eje y."
      ]
    },
    {
      "cell_type": "code",
      "metadata": {
        "id": "euWbVOtmJzwU"
      },
      "source": [
        "N = 1000\n",
        "\n",
        "def f(x):\n",
        "  return x**3;\n",
        "\n",
        "x = np.linspace(-10,10, num=N)\n",
        "\n",
        "y = f(x)\n",
        "\n",
        "\n",
        "fig, ax = plt.subplots()\n",
        "ax.plot(x,y)\n",
        "ax.grid()\n",
        "ax.axhline(y=0, color='r')\n",
        "ax.axvline(x=0, color='r')"
      ],
      "execution_count": null,
      "outputs": []
    },
    {
      "cell_type": "code",
      "metadata": {
        "id": "-LBfbkYWLPB-"
      },
      "source": [
        ""
      ],
      "execution_count": null,
      "outputs": []
    }
  ]
}